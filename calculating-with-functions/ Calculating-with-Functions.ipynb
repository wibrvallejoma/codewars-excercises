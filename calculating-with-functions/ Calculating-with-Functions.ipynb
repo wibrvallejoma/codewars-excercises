{
 "cells": [
  {
   "cell_type": "markdown",
   "metadata": {},
   "source": [
    "## Introduction (First thoughts)\n",
    "At the beggining I did not understand this excercise at all.\n",
    "\n",
    "So I did the following:\n",
    "\n",
    "Try to solve it by my own, but something was missing, how I call a function with another function. I found the following video: [How to Understand Callbacks & Higher Order Functions (FULL VIDEO Parts 1-4) - Youtube](https://www.youtube.com/watch?v=viQz4nUUnpw).\n",
    "\n",
    "Now I understand that you can set functions as parameters in Javascript and Python! Also, the CEO of Codesmiths (attached video above) did an incredible job explaining all of this, from simple functions to Callbacks and Higher Order functions.\n",
    "\n",
    "But this examples are the basic ones, implement this knowledge to this excercise could be a little more difficult. So this were my thoughts:\n",
    "\n",
    "- Require use of lambda functions to the make it more simple.\n",
    "- This functions are Currying Functions (Calling a function inside another function).\n",
    "- So, Lambda functions are simple functions, right? But how I can call lambda functions or do `X + Y` with only one parameter? "
   ]
  },
  {
   "cell_type": "markdown",
   "metadata": {},
   "source": [
    "## Lambda functions\n",
    "I made a research about lambda functions to remember how they work.\n",
    "\n",
    "This site explains it very well: [Python Lambda - RealPython](https://realpython.com/python-lambda/)\n",
    "\n",
    "So, let's start coding."
   ]
  },
  {
   "cell_type": "code",
   "execution_count": 46,
   "metadata": {},
   "outputs": [
    {
     "name": "stdout",
     "output_type": "stream",
     "text": [
      "Regular function: Hello world\n",
      "Lambda function: Hello world\n"
     ]
    }
   ],
   "source": [
    "# This is a regular function\n",
    "def function():\n",
    "    return \"Hello world\"\n",
    "\n",
    "# This is a lambda function\n",
    "l_func = lambda: \"Hello world\"\n",
    "\n",
    "print(\"Regular function:\", function())\n",
    "print(\"Lambda function:\", l_func())"
   ]
  },
  {
   "cell_type": "code",
   "execution_count": 47,
   "metadata": {},
   "outputs": [
    {
     "name": "stdout",
     "output_type": "stream",
     "text": [
      "10\n",
      "10\n"
     ]
    }
   ],
   "source": [
    "def multipled_by_two(number):\n",
    "    return number * 2\n",
    "\n",
    "l_multiplied_by_two = lambda x: x * 2\n",
    "\n",
    "print(multipled_by_two(5))\n",
    "print(l_multiplied_by_two(5))"
   ]
  },
  {
   "cell_type": "markdown",
   "metadata": {},
   "source": [
    "Now, let's return to the excercise"
   ]
  },
  {
   "cell_type": "code",
   "execution_count": 53,
   "metadata": {},
   "outputs": [
    {
     "name": "stdout",
     "output_type": "stream",
     "text": [
      "40\n"
     ]
    }
   ],
   "source": [
    "n = 5\n",
    "result = lambda x: x * n\n",
    "print(result(8))"
   ]
  },
  {
   "cell_type": "code",
   "execution_count": 54,
   "metadata": {},
   "outputs": [
    {
     "name": "stdout",
     "output_type": "stream",
     "text": [
      "40\n"
     ]
    }
   ],
   "source": [
    "# Its similar to\n",
    "def five():\n",
    "    return 5\n",
    "result = lambda x: x * five()\n",
    "print(result(8))"
   ]
  },
  {
   "cell_type": "markdown",
   "metadata": {},
   "source": [
    "So, this is another similar example:"
   ]
  },
  {
   "cell_type": "code",
   "execution_count": 55,
   "metadata": {},
   "outputs": [
    {
     "name": "stdout",
     "output_type": "stream",
     "text": [
      "5\n",
      "5\n"
     ]
    }
   ],
   "source": [
    "# This is equal to\n",
    "def func(input):\n",
    "    return input\n",
    "print(func(5))\n",
    "\n",
    "# This\n",
    "print((lambda x: x)(5))"
   ]
  },
  {
   "cell_type": "markdown",
   "metadata": {},
   "source": [
    "Lambda functions could be a little tricky"
   ]
  },
  {
   "cell_type": "code",
   "execution_count": 57,
   "metadata": {},
   "outputs": [
    {
     "data": {
      "text/plain": [
       "15"
      ]
     },
     "execution_count": 57,
     "metadata": {},
     "output_type": "execute_result"
    }
   ],
   "source": [
    "def plus(input):\n",
    "    return lambda x: x + input\n",
    "\n",
    "# FunctionName(input)(Lambda parameter)\n",
    "plus(5)(10)"
   ]
  },
  {
   "cell_type": "markdown",
   "metadata": {},
   "source": [
    "## Results (Spoiler)\n",
    "\n",
    "First approach"
   ]
  },
  {
   "cell_type": "code",
   "execution_count": 58,
   "metadata": {},
   "outputs": [],
   "source": [
    "def eight(function=None):\n",
    "    return function(8) if function else 8\n",
    "def seven(function=None):\n",
    "    return function(7) if function else 7"
   ]
  },
  {
   "cell_type": "code",
   "execution_count": 59,
   "metadata": {},
   "outputs": [],
   "source": [
    "def plus(input):\n",
    "    return lambda x: x + input"
   ]
  },
  {
   "cell_type": "code",
   "execution_count": 60,
   "metadata": {},
   "outputs": [
    {
     "data": {
      "text/plain": [
       "15"
      ]
     },
     "execution_count": 60,
     "metadata": {},
     "output_type": "execute_result"
    }
   ],
   "source": [
    "eight(plus(seven()))"
   ]
  },
  {
   "cell_type": "markdown",
   "metadata": {},
   "source": [
    "## Optimizing the function\n",
    "\n",
    "Remember. Use the DRY principle. Do not Repeat Yourself"
   ]
  },
  {
   "cell_type": "code",
   "execution_count": 63,
   "metadata": {},
   "outputs": [
    {
     "name": "stdout",
     "output_type": "stream",
     "text": [
      "15\n",
      "64\n"
     ]
    }
   ],
   "source": [
    "def instructions(f, number): return f(number) if f else number\n",
    "\n",
    "def eight(f=None): return instructions(f, 8)\n",
    "def seven(f=None): return instructions(f, 7)\n",
    "\n",
    "def plus(input): return lambda x: x + input\n",
    "def minus(input): return lambda x: x - input\n",
    "def times(input): return lambda x: x * input\n",
    "def divided_by(input): return lambda x: int(x / input)\n",
    "\n",
    "print(eight(plus(seven())))\n",
    "print(eight(times(eight())))"
   ]
  }
 ],
 "metadata": {
  "kernelspec": {
   "display_name": "Python 3",
   "language": "python",
   "name": "python3"
  },
  "language_info": {
   "codemirror_mode": {
    "name": "ipython",
    "version": 3
   },
   "file_extension": ".py",
   "mimetype": "text/x-python",
   "name": "python",
   "nbconvert_exporter": "python",
   "pygments_lexer": "ipython3",
   "version": "3.8.5"
  }
 },
 "nbformat": 4,
 "nbformat_minor": 4
}
